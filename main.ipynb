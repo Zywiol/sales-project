{
 "cells": [
  {
   "cell_type": "code",
   "execution_count": 42,
   "metadata": {},
   "outputs": [],
   "source": [
    "import pandas as pd\n",
    "import os\n",
    "\n",
    "full_data = pd.DataFrame()\n",
    "\n",
    "for file in os.listdir('./Sales_Data/'):\n",
    "    df = pd.read_csv('./Sales_Data/'+file)\n",
    "    full_data = pd.concat([full_data,df])\n"
   ]
  },
  {
   "cell_type": "code",
   "execution_count": 43,
   "metadata": {},
   "outputs": [
    {
     "data": {
      "text/plain": [
       "Order ID            0.291678\n",
       "Product             0.291678\n",
       "Quantity Ordered    0.291678\n",
       "Price Each          0.291678\n",
       "Order Date          0.291678\n",
       "Purchase Address    0.291678\n",
       "dtype: float64"
      ]
     },
     "execution_count": 43,
     "metadata": {},
     "output_type": "execute_result"
    }
   ],
   "source": [
    "full_data.isna().mean() * 100"
   ]
  },
  {
   "cell_type": "code",
   "execution_count": 82,
   "metadata": {},
   "outputs": [
    {
     "data": {
      "text/html": [
       "<div>\n",
       "<style scoped>\n",
       "    .dataframe tbody tr th:only-of-type {\n",
       "        vertical-align: middle;\n",
       "    }\n",
       "\n",
       "    .dataframe tbody tr th {\n",
       "        vertical-align: top;\n",
       "    }\n",
       "\n",
       "    .dataframe thead th {\n",
       "        text-align: right;\n",
       "    }\n",
       "</style>\n",
       "<table border=\"1\" class=\"dataframe\">\n",
       "  <thead>\n",
       "    <tr style=\"text-align: right;\">\n",
       "      <th></th>\n",
       "      <th>Order ID</th>\n",
       "      <th>Product</th>\n",
       "      <th>Quantity Ordered</th>\n",
       "      <th>Price Each</th>\n",
       "      <th>Order Date</th>\n",
       "      <th>Purchase Address</th>\n",
       "      <th>Order Day</th>\n",
       "      <th>Order Month</th>\n",
       "      <th>Order Year</th>\n",
       "      <th>Total Value</th>\n",
       "      <th>City</th>\n",
       "    </tr>\n",
       "  </thead>\n",
       "  <tbody>\n",
       "    <tr>\n",
       "      <th>1</th>\n",
       "      <td>295666</td>\n",
       "      <td>LG Washing Machine</td>\n",
       "      <td>1</td>\n",
       "      <td>600.00</td>\n",
       "      <td>2019-12-29 07:03:00</td>\n",
       "      <td>562 2nd St, New York City, NY 10001</td>\n",
       "      <td>29</td>\n",
       "      <td>December</td>\n",
       "      <td>2019</td>\n",
       "      <td>600.00</td>\n",
       "      <td>New York</td>\n",
       "    </tr>\n",
       "    <tr>\n",
       "      <th>2</th>\n",
       "      <td>295667</td>\n",
       "      <td>USB-C Charging Cable</td>\n",
       "      <td>1</td>\n",
       "      <td>11.95</td>\n",
       "      <td>2019-12-12 18:21:00</td>\n",
       "      <td>277 Main St, New York City, NY 10001</td>\n",
       "      <td>12</td>\n",
       "      <td>December</td>\n",
       "      <td>2019</td>\n",
       "      <td>11.95</td>\n",
       "      <td>New York</td>\n",
       "    </tr>\n",
       "    <tr>\n",
       "      <th>2</th>\n",
       "      <td>176559</td>\n",
       "      <td>Bose SoundSport Headphones</td>\n",
       "      <td>1</td>\n",
       "      <td>99.99</td>\n",
       "      <td>2019-04-07 22:30:00</td>\n",
       "      <td>682 Chestnut St, Boston, MA 02215</td>\n",
       "      <td>7</td>\n",
       "      <td>April</td>\n",
       "      <td>2019</td>\n",
       "      <td>99.99</td>\n",
       "      <td>Boston</td>\n",
       "    </tr>\n",
       "    <tr>\n",
       "      <th>1</th>\n",
       "      <td>150503</td>\n",
       "      <td>AA Batteries (4-pack)</td>\n",
       "      <td>1</td>\n",
       "      <td>3.84</td>\n",
       "      <td>2019-02-13 07:24:00</td>\n",
       "      <td>18 13th St, San Francisco, CA 94016</td>\n",
       "      <td>13</td>\n",
       "      <td>February</td>\n",
       "      <td>2019</td>\n",
       "      <td>3.84</td>\n",
       "      <td>San Francisco</td>\n",
       "    </tr>\n",
       "    <tr>\n",
       "      <th>2</th>\n",
       "      <td>150504</td>\n",
       "      <td>27in 4K Gaming Monitor</td>\n",
       "      <td>1</td>\n",
       "      <td>389.99</td>\n",
       "      <td>2019-02-18 09:46:00</td>\n",
       "      <td>52 6th St, New York City, NY 10001</td>\n",
       "      <td>18</td>\n",
       "      <td>February</td>\n",
       "      <td>2019</td>\n",
       "      <td>389.99</td>\n",
       "      <td>New York</td>\n",
       "    </tr>\n",
       "  </tbody>\n",
       "</table>\n",
       "</div>"
      ],
      "text/plain": [
       "  Order ID                     Product  Quantity Ordered  Price Each  \\\n",
       "1   295666          LG Washing Machine                 1      600.00   \n",
       "2   295667        USB-C Charging Cable                 1       11.95   \n",
       "2   176559  Bose SoundSport Headphones                 1       99.99   \n",
       "1   150503       AA Batteries (4-pack)                 1        3.84   \n",
       "2   150504      27in 4K Gaming Monitor                 1      389.99   \n",
       "\n",
       "           Order Date                      Purchase Address  Order Day  \\\n",
       "1 2019-12-29 07:03:00   562 2nd St, New York City, NY 10001         29   \n",
       "2 2019-12-12 18:21:00  277 Main St, New York City, NY 10001         12   \n",
       "2 2019-04-07 22:30:00     682 Chestnut St, Boston, MA 02215          7   \n",
       "1 2019-02-13 07:24:00   18 13th St, San Francisco, CA 94016         13   \n",
       "2 2019-02-18 09:46:00    52 6th St, New York City, NY 10001         18   \n",
       "\n",
       "  Order Month  Order Year  Total Value            City  \n",
       "1    December        2019       600.00       New York   \n",
       "2    December        2019        11.95       New York   \n",
       "2       April        2019        99.99          Boston  \n",
       "1    February        2019         3.84   San Francisco  \n",
       "2    February        2019       389.99       New York   "
      ]
     },
     "execution_count": 82,
     "metadata": {},
     "output_type": "execute_result"
    }
   ],
   "source": [
    "from os import replace\n",
    "from re import split\n",
    "\n",
    "\n",
    "full_data = full_data.dropna()\n",
    "\n",
    "full_data = full_data.drop(full_data[full_data['Order Date'] == 'Order Date'].index)\n",
    "\n",
    "full_data['Order Date'] = pd.to_datetime(full_data['Order Date'])\n",
    "full_data['Quantity Ordered'] = pd.to_numeric(full_data['Quantity Ordered'])\n",
    "full_data['Price Each'] = pd.to_numeric(full_data['Price Each'])\n",
    "\n",
    "full_data['Order Day'] = full_data['Order Date'].dt.day\n",
    "full_data['Order Month'] = full_data['Order Date'].dt.month_name()\n",
    "full_data['Order Year'] = full_data['Order Date'].dt.year\n",
    "\n",
    "full_data['Total Value'] = full_data['Quantity Ordered'] * full_data['Price Each']\n",
    "\n",
    "full_data['City'] =  full_data['Purchase Address'].str.split(',').str[1].str.replace('City','')\n",
    "\n",
    "full_data.head()\n",
    "\n"
   ]
  },
  {
   "cell_type": "markdown",
   "metadata": {},
   "source": [
    "#### The best month in the year"
   ]
  },
  {
   "cell_type": "code",
   "execution_count": 71,
   "metadata": {},
   "outputs": [
    {
     "name": "stdout",
     "output_type": "stream",
     "text": [
      "The best month in 2019 was December and we earned 4,557,905.42\n"
     ]
    }
   ],
   "source": [
    "grouped_data = full_data.groupby('Order Month')['Total Value'].sum()\n",
    "grouped_data = grouped_data.sort_values(ascending=False)\n",
    "the_best_month = grouped_data.index[0]\n",
    "value = grouped_data.values[0]\n",
    "value = \"{:,}\".format(value)\n",
    "\n",
    "print(f\"The best month in 2019 was {the_best_month} and we earned {value}\")"
   ]
  },
  {
   "cell_type": "markdown",
   "metadata": {},
   "source": [
    "#### The most product sold in the city"
   ]
  },
  {
   "cell_type": "code",
   "execution_count": null,
   "metadata": {},
   "outputs": [],
   "source": []
  }
 ],
 "metadata": {
  "kernelspec": {
   "display_name": ".venv",
   "language": "python",
   "name": "python3"
  },
  "language_info": {
   "codemirror_mode": {
    "name": "ipython",
    "version": 3
   },
   "file_extension": ".py",
   "mimetype": "text/x-python",
   "name": "python",
   "nbconvert_exporter": "python",
   "pygments_lexer": "ipython3",
   "version": "3.11.1"
  }
 },
 "nbformat": 4,
 "nbformat_minor": 2
}
