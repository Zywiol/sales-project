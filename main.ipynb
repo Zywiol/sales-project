{
 "cells": [
  {
   "cell_type": "code",
   "execution_count": 174,
   "metadata": {},
   "outputs": [],
   "source": [
    "import pandas as pd\n",
    "import matplotlib.pyplot as plt\n",
    "import os\n",
    "\n",
    "full_data = pd.DataFrame()\n",
    "\n",
    "for file in os.listdir('./Sales_Data/'):\n",
    "    df = pd.read_csv('./Sales_Data/'+file)\n",
    "    full_data = pd.concat([full_data,df])\n",
    "\n"
   ]
  },
  {
   "cell_type": "code",
   "execution_count": 175,
   "metadata": {},
   "outputs": [
    {
     "data": {
      "text/plain": [
       "Order ID            0.291678\n",
       "Product             0.291678\n",
       "Quantity Ordered    0.291678\n",
       "Price Each          0.291678\n",
       "Order Date          0.291678\n",
       "Purchase Address    0.291678\n",
       "dtype: float64"
      ]
     },
     "execution_count": 175,
     "metadata": {},
     "output_type": "execute_result"
    }
   ],
   "source": [
    "full_data.isna().mean() * 100"
   ]
  },
  {
   "cell_type": "code",
   "execution_count": 176,
   "metadata": {},
   "outputs": [
    {
     "name": "stdout",
     "output_type": "stream",
     "text": [
      "(186305, 6)\n"
     ]
    },
    {
     "name": "stderr",
     "output_type": "stream",
     "text": [
      "/var/folders/1t/vz2x4n4n36v6r8p1dl1yh54w0000gn/T/ipykernel_71145/3569422104.py:7: UserWarning: Could not infer format, so each element will be parsed individually, falling back to `dateutil`. To ensure parsing is consistent and as-expected, please specify a format.\n",
      "  full_data['Order Date'] = pd.to_datetime(full_data['Order Date'])\n"
     ]
    }
   ],
   "source": [
    "full_data = full_data.dropna()\n",
    "\n",
    "print(full_data.shape)\n",
    "\n",
    "full_data = full_data.drop(full_data[full_data['Order Date'] == 'Order Date'].index)\n",
    "\n",
    "full_data['Order Date'] = pd.to_datetime(full_data['Order Date'])\n",
    "full_data['Quantity Ordered'] = pd.to_numeric(full_data['Quantity Ordered'])\n",
    "full_data['Price Each'] = pd.to_numeric(full_data['Price Each'])\n",
    "\n",
    "full_data['Order Day'] = full_data['Order Date'].dt.day\n",
    "full_data['Order Month'] = full_data['Order Date'].dt.month\n",
    "full_data['Order Year'] = full_data['Order Date'].dt.year\n",
    "\n",
    "full_data['Total Value'] = full_data['Quantity Ordered'] * full_data['Price Each']\n",
    "\n",
    "full_data['City'] =  full_data['Purchase Address'].str.split(',').str[1].str.replace('City','')\n",
    "\n",
    "\n"
   ]
  },
  {
   "cell_type": "markdown",
   "metadata": {},
   "source": [
    "#### The best month in the year"
   ]
  },
  {
   "cell_type": "code",
   "execution_count": 177,
   "metadata": {},
   "outputs": [
    {
     "name": "stdout",
     "output_type": "stream",
     "text": [
      "The best month in 2019 was 12 and we earned 4,557,905.42\n"
     ]
    },
    {
     "data": {
      "text/plain": [
       "(182735, 11)"
      ]
     },
     "execution_count": 177,
     "metadata": {},
     "output_type": "execute_result"
    }
   ],
   "source": [
    "grouped_data = full_data.groupby('Order Month')['Total Value'].sum()\n",
    "grouped_data = grouped_data.sort_values(ascending=False)\n",
    "the_best_month = grouped_data.index[0]\n",
    "value = grouped_data.values[0]\n",
    "value = \"{:,}\".format(value)\n",
    "\n",
    "print(f\"The best month in 2019 was {the_best_month} and we earned {value}\")\n",
    "\n",
    "full_data.shape"
   ]
  },
  {
   "cell_type": "markdown",
   "metadata": {},
   "source": [
    "#### The most product sold in the city"
   ]
  },
  {
   "cell_type": "code",
   "execution_count": 178,
   "metadata": {},
   "outputs": [
    {
     "name": "stdout",
     "output_type": "stream",
     "text": [
      " San Francisco sold 49363 - this is the biggest salles\n"
     ]
    }
   ],
   "source": [
    "grouped_by_city = full_data.groupby('City')['Quantity Ordered'].sum()\n",
    "grouped_by_city = grouped_by_city.sort_values(ascending=False)\n",
    "\n",
    "city = grouped_by_city.index[0]\n",
    "products_sold = grouped_by_city.values[0]\n",
    "\n",
    "print(f'{city} sold {products_sold} - this is the biggest salles')\n"
   ]
  },
  {
   "cell_type": "code",
   "execution_count": 179,
   "metadata": {},
   "outputs": [
    {
     "data": {
      "text/plain": [
       "Product\n",
       "USB-C Charging Cable          21523\n",
       "Lightning Charging Cable      21308\n",
       "AAA Batteries (4-pack)        20293\n",
       "AA Batteries (4-pack)         20214\n",
       "Wired Headphones              18552\n",
       "Apple Airpods Headphones      15273\n",
       "Bose SoundSport Headphones    13109\n",
       "27in FHD Monitor               7386\n",
       "iPhone                         6725\n",
       "27in 4K Gaming Monitor         6122\n",
       "34in Ultrawide Monitor         6058\n",
       "Google Phone                   5433\n",
       "Flatscreen TV                  4705\n",
       "Macbook Pro Laptop             4641\n",
       "ThinkPad Laptop                4052\n",
       "20in Monitor                   4032\n",
       "Vareebadd Phone                2020\n",
       "LG Washing Machine              649\n",
       "LG Dryer                        640\n",
       "Name: Order ID, dtype: int64"
      ]
     },
     "execution_count": 179,
     "metadata": {},
     "output_type": "execute_result"
    }
   ],
   "source": [
    "full_data.head()\n",
    "\n",
    "products_type = full_data.groupby('Product')['Order ID'].count()\n",
    "products_type = products_type.sort_values(ascending=False)\n",
    "\n",
    "products_type"
   ]
  },
  {
   "cell_type": "markdown",
   "metadata": {},
   "source": [
    "#### TOP 10 products sold"
   ]
  },
  {
   "cell_type": "code",
   "execution_count": null,
   "metadata": {},
   "outputs": [],
   "source": [
    "bar_chart = products_type.sort_values(ascending=False).head(10).plot.barh(\n",
    "            figsize=(16, 14),\n",
    "            xlabel='Order Count',\n",
    "            ylabel='Product',\n",
    "            label=True,  # to doda etykiety wartości\n",
    "            color='orange',\n",
    "            fontsize = 12\n",
    "        )\n",
    "\n",
    "\n",
    "\n",
    "bar_chart_labels = bar_chart.bar_label(bar_chart.containers[0], padding=5,color = 'white',label_type='center',size=15) # type: ignore\n",
    "\n",
    "bar_chart.spines['right'].set_visible(False)\n",
    "bar_chart.spines['top'].set_visible(False)\n",
    "\n",
    "bar_chart.set_title('Top 10 products', fontsize=20)\n",
    "bar_chart.invert_yaxis()\n"
   ]
  },
  {
   "cell_type": "code",
   "execution_count": 184,
   "metadata": {},
   "outputs": [
    {
     "name": "stdout",
     "output_type": "stream",
     "text": [
      "0 4557905.42\n",
      "1 3679254.16\n",
      "2 3336376.42\n",
      "3 3149785.09\n",
      "4 3101881.04\n",
      "5 2755969.4\n",
      "6 2587444.91\n",
      "7 2524464.99\n",
      "8 2191698.31\n",
      "9 2158127.48\n",
      "10 2050361.26\n",
      "11 1786511.29\n"
     ]
    },
    {
     "data": {
      "image/png": "[encoded data removed]",
      "text/plain": [
       "<Figure size 1000x800 with 1 Axes>"
      ]
     },
     "metadata": {},
     "output_type": "display_data"
    }
   ],
   "source": [
    "line_chart = grouped_data.sort_index().plot.line(\n",
    "    figsize = (10,8),\n",
    "    label = True,\n",
    ")\n",
    "\n",
    "\n",
    "\n",
    "line_chart.set_title('Total sales per month')\n",
    "line_chart.spines['right'].set_visible(False)\n",
    "line_chart.spines['top'].set_visible(False)\n",
    "\n",
    "for i,y in enumerate(grouped_data.values):\n",
    "    print(i,y)\n",
    "\n"
   ]
  }
 ],
 "metadata": {
  "kernelspec": {
   "display_name": ".venv",
   "language": "python",
   "name": "python3"
  },
  "language_info": {
   "codemirror_mode": {
    "name": "ipython",
    "version": 3
   },
   "file_extension": ".py",
   "mimetype": "text/x-python",
   "name": "python",
   "nbconvert_exporter": "python",
   "pygments_lexer": "ipython3",
   "version": "3.11.1"
  }
 },
 "nbformat": 4,
 "nbformat_minor": 2
}
